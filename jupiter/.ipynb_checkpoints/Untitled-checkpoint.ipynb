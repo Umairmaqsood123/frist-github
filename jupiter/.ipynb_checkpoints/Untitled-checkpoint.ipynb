{
 "cells": [
  {
   "cell_type": "markdown",
   "id": "b9ff91b0-410c-40de-8801-2f45030a6679",
   "metadata": {},
   "source": [
    "# python ka chilla with #baba _Aammar\n",
    "## how to use Jupter Note Book\n",
    "### Basics of python\n",
    "### **1- My first program**\n"
   ]
  },
  {
   "cell_type": "code",
   "execution_count": 2,
   "id": "aabae6bd-7629-4071-a9fc-308302bcc41b",
   "metadata": {},
   "outputs": [
    {
     "name": "stdout",
     "output_type": "stream",
     "text": [
      "5\n",
      "Hello world\n",
      "We are learing python\n"
     ]
    }
   ],
   "source": [
    " print (2+3)\n",
    " print (\"Hello world\")\n",
    " print (\"We are learing python\")"
   ]
  },
  {
   "cell_type": "code",
   "execution_count": 3,
   "id": "afe7fff8-e9fc-4164-9bd9-16345647d3e3",
   "metadata": {},
   "outputs": [],
   "source": [
    "### **02- operators**"
   ]
  },
  {
   "cell_type": "code",
   "execution_count": 4,
   "id": "4d2a3835-3bda-41e2-bf63-fa0f34d01227",
   "metadata": {},
   "outputs": [
    {
     "name": "stdout",
     "output_type": "stream",
     "text": [
      "3\n",
      "2\n",
      "3.0\n",
      "6\n",
      "1\n",
      "3\n",
      "6.5\n"
     ]
    }
   ],
   "source": [
    "print(2+1)\n",
    "print(3-1)\n",
    "print(6/2)\n",
    "print(2*3)\n",
    "print(13%2)\n",
    "print(6//2)\n",
    "print(3**2/2*3/3+6-4)"
   ]
  },
  {
   "cell_type": "markdown",
   "id": "518590e8-b3de-4f5b-a09d-1580872492b4",
   "metadata": {},
   "source": [
    "*PEMDAS*\n",
    "Parenthes Exponents Muultply Divide Addition substraction\n",
    "left to right sequece for M D & A S*"
   ]
  },
  {
   "cell_type": "code",
   "execution_count": 6,
   "id": "76bf29fd-73db-4d9e-8cbf-c32770ed9cfe",
   "metadata": {},
   "outputs": [],
   "source": [
    "### **03- strings**"
   ]
  },
  {
   "cell_type": "code",
   "execution_count": 7,
   "id": "e5dfc29e-8162-4754-9ed7-a0bcc14bc709",
   "metadata": {},
   "outputs": [
    {
     "name": "stdout",
     "output_type": "stream",
     "text": [
      "Hello World\n",
      "We are learing python with Aammar\n",
      "Test for single quotes\n",
      "test for double quotes\n",
      "test for tripple\n",
      "What's up\n"
     ]
    }
   ],
   "source": [
    "print(\"Hello World\")\n",
    "print(\"We are learing python with Aammar\")\n",
    "print(\"Test for single quotes\")\n",
    "print(\"test for double quotes\")\n",
    "print('''test for tripple''')\n",
    "print(\"What's up\")\n",
    "      "
   ]
  },
  {
   "cell_type": "code",
   "execution_count": null,
   "id": "0718c21f-4db9-424f-88d2-b6597864afde",
   "metadata": {},
   "outputs": [],
   "source": [
    "**04- comments**"
   ]
  },
  {
   "cell_type": "raw",
   "id": "c8f63af1-6ae2-4337-b8ef-7f2bfa17f0cb",
   "metadata": {},
   "source": [
    "print(\"How are you\")      #press these to comment out (ctrl+/)\n",
    "print(\"We are learing python with Aammar\")#print a stering\n",
    "print(2+6)#perint operators"
   ]
  }
 ],
 "metadata": {
  "kernelspec": {
   "display_name": "Python 3 (ipykernel)",
   "language": "python",
   "name": "python3"
  },
  "language_info": {
   "codemirror_mode": {
    "name": "ipython",
    "version": 3
   },
   "file_extension": ".py",
   "mimetype": "text/x-python",
   "name": "python",
   "nbconvert_exporter": "python",
   "pygments_lexer": "ipython3",
   "version": "3.12.4"
  }
 },
 "nbformat": 4,
 "nbformat_minor": 5
}
